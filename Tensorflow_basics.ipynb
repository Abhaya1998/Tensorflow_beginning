{
 "cells": [
  {
   "cell_type": "markdown",
   "metadata": {},
   "source": [
    "#Tensorflow Basics"
   ]
  },
  {
   "cell_type": "code",
   "execution_count": 1,
   "metadata": {},
   "outputs": [],
   "source": [
    "import tensorflow as tf"
   ]
  },
  {
   "cell_type": "markdown",
   "metadata": {},
   "source": [
    "Lets create training and test data"
   ]
  },
  {
   "cell_type": "code",
   "execution_count": 2,
   "metadata": {},
   "outputs": [],
   "source": [
    "X_train=[1,2,3,4]\n",
    "Y_test=[0,-1,-2,-3]"
   ]
  },
  {
   "cell_type": "markdown",
   "metadata": {},
   "source": [
    "Lets create weight and bias"
   ]
  },
  {
   "cell_type": "code",
   "execution_count": 3,
   "metadata": {},
   "outputs": [],
   "source": [
    "w=tf.Variable([.3],dtype=tf.float32)   #Its a variable which will be initialised later on by session\n",
    "b=tf.Variable([-.3],dtype=tf.float32)\n",
    "x=tf.placeholder(tf.float32)           #Its a placeholder which value is to be feed later on\n",
    "init=tf.global_variables_initializer() #function to Initialise all the value \n",
    "sess=tf.Session()               \n",
    "sess.run(init)                         #initialises all the variable"
   ]
  },
  {
   "cell_type": "markdown",
   "metadata": {},
   "source": [
    "Lets create a linear model to improve its accuracy"
   ]
  },
  {
   "cell_type": "code",
   "execution_count": 4,
   "metadata": {},
   "outputs": [
    {
     "name": "stdout",
     "output_type": "stream",
     "text": [
      "[0.         0.3        0.6        0.90000004]\n"
     ]
    }
   ],
   "source": [
    "linear_model=w*x+b\n",
    "print(sess.run(linear_model,{x:X_train}))"
   ]
  },
  {
   "cell_type": "markdown",
   "metadata": {},
   "source": [
    "Here we can see the output is different fro Y_test\n",
    "Lets try to improve the  linear model\n",
    "We will use Gradient algorithm to improve its accuracy\n",
    "First lets create a loss function(sqared error)"
   ]
  },
  {
   "cell_type": "code",
   "execution_count": 5,
   "metadata": {},
   "outputs": [
    {
     "name": "stdout",
     "output_type": "stream",
     "text": [
      "23.66\n"
     ]
    }
   ],
   "source": [
    "squared_error=tf.square(linear_model-Y_test)\n",
    "loss=tf.reduce_sum(squared_error)\n",
    "print(sess.run(loss,{x:X_train}))"
   ]
  },
  {
   "cell_type": "markdown",
   "metadata": {},
   "source": [
    "Here the loss is 23.66. Lets minimise it"
   ]
  },
  {
   "cell_type": "code",
   "execution_count": 6,
   "metadata": {},
   "outputs": [
    {
     "name": "stdout",
     "output_type": "stream",
     "text": [
      "[None, array([-0.21999997], dtype=float32), array([-0.45600003], dtype=float32), 23.66]\n",
      "[None, array([-0.39679998], dtype=float32), array([-0.49552003], dtype=float32), 4.018144]\n",
      "[None, array([-0.45961598], dtype=float32), array([-0.49651843], dtype=float32), 1.8198743]\n",
      "[None, array([-0.4845427], dtype=float32), array([-0.48487377], dtype=float32), 1.5448234]\n",
      "[None, array([-0.49684232], dtype=float32), array([-0.46917534], dtype=float32), 1.4825068]\n",
      "[None, array([-0.5049019], dtype=float32), array([-0.45227286], dtype=float32), 1.4443971]\n",
      "[None, array([-0.5115062], dtype=float32), array([-0.43511066], dtype=float32), 1.4096991]\n",
      "[None, array([-0.51758033], dtype=float32), array([-0.41800058], dtype=float32), 1.376103]\n",
      "[None, array([-0.523432], dtype=float32), array([-0.40104446], dtype=float32), 1.3433374]\n",
      "[None, array([-0.5291639], dtype=float32), array([-0.3842745], dtype=float32), 1.3113551]\n",
      "[None, array([-0.53481066], dtype=float32), array([-0.36769977], dtype=float32), 1.2801344]\n",
      "[None, array([-0.5403843], dtype=float32), array([-0.35132167], dtype=float32), 1.249657]\n",
      "[None, array([-0.5458894], dtype=float32), array([-0.33513907], dtype=float32), 1.2199056]\n",
      "[None, array([-0.55132794], dtype=float32), array([-0.31915006], dtype=float32), 1.1908623]\n",
      "[None, array([-0.5567012], dtype=float32), array([-0.30335248], dtype=float32), 1.1625108]\n",
      "[None, array([-0.56201], dtype=float32), array([-0.28774405], dtype=float32), 1.1348338]\n",
      "[None, array([-0.5672552], dtype=float32), array([-0.27232254], dtype=float32), 1.1078157]\n",
      "[None, array([-0.5724376], dtype=float32), array([-0.2570857], dtype=float32), 1.0814413]\n",
      "[None, array([-0.57755786], dtype=float32), array([-0.24203134], dtype=float32), 1.0556943]\n",
      "[None, array([-0.58261687], dtype=float32), array([-0.22715725], dtype=float32), 1.0305607]\n",
      "[None, array([-0.5876153], dtype=float32), array([-0.2124613], dtype=float32), 1.0060252]\n",
      "[None, array([-0.59255385], dtype=float32), array([-0.19794133], dtype=float32), 0.9820742]\n",
      "[None, array([-0.59743327], dtype=float32), array([-0.18359526], dtype=float32), 0.95869297]\n",
      "[None, array([-0.6022543], dtype=float32), array([-0.16942099], dtype=float32), 0.93586874]\n",
      "[None, array([-0.6070175], dtype=float32), array([-0.15541646], dtype=float32), 0.91358757]\n",
      "[None, array([-0.6117237], dtype=float32), array([-0.14157964], dtype=float32), 0.8918372]\n",
      "[None, array([-0.61637354], dtype=float32), array([-0.12790853], dtype=float32), 0.87060446]\n",
      "[None, array([-0.62096775], dtype=float32), array([-0.11440115], dtype=float32), 0.8498773]\n",
      "[None, array([-0.6255069], dtype=float32), array([-0.10105551], dtype=float32), 0.8296436]\n",
      "[None, array([-0.62999165], dtype=float32), array([-0.08786969], dtype=float32), 0.80989146]\n",
      "[None, array([-0.6344227], dtype=float32), array([-0.07484178], dtype=float32), 0.79060984]\n",
      "[None, array([-0.63880074], dtype=float32), array([-0.0619699], dtype=float32), 0.7717872]\n",
      "[None, array([-0.6431263], dtype=float32), array([-0.04925216], dtype=float32), 0.7534125]\n",
      "[None, array([-0.6474001], dtype=float32), array([-0.03668672], dtype=float32), 0.7354754]\n",
      "[None, array([-0.6516227], dtype=float32), array([-0.02427177], dtype=float32), 0.71796554]\n",
      "[None, array([-0.65579474], dtype=float32), array([-0.01200549], dtype=float32), 0.7008723]\n",
      "[None, array([-0.6599168], dtype=float32), array([0.0001139], dtype=float32), 0.684186]\n",
      "[None, array([-0.6639895], dtype=float32), array([0.01208815], dtype=float32), 0.6678971]\n",
      "[None, array([-0.66801345], dtype=float32), array([0.02391899], dtype=float32), 0.6519958]\n",
      "[None, array([-0.6719892], dtype=float32), array([0.03560816], dtype=float32), 0.63647336]\n",
      "[None, array([-0.6759173], dtype=float32), array([0.04715735], dtype=float32), 0.6213202]\n",
      "[None, array([-0.6797984], dtype=float32), array([0.05856822], dtype=float32), 0.6065279]\n",
      "[None, array([-0.683633], dtype=float32), array([0.06984245], dtype=float32), 0.59208786]\n",
      "[None, array([-0.6874217], dtype=float32), array([0.08098166], dtype=float32), 0.5779915]\n",
      "[None, array([-0.69116503], dtype=float32), array([0.09198746], dtype=float32), 0.5642309]\n",
      "[None, array([-0.6948635], dtype=float32), array([0.10286147], dtype=float32), 0.55079764]\n",
      "[None, array([-0.6985177], dtype=float32), array([0.11360525], dtype=float32), 0.53768444]\n",
      "[None, array([-0.7021281], dtype=float32), array([0.12422036], dtype=float32), 0.52488333]\n",
      "[None, array([-0.70569533], dtype=float32), array([0.13470836], dtype=float32), 0.5123871]\n",
      "[None, array([-0.7092198], dtype=float32), array([0.14507075], dtype=float32), 0.50018823]\n",
      "[None, array([-0.7127021], dtype=float32), array([0.15530905], dtype=float32), 0.48827988]\n",
      "[None, array([-0.71614265], dtype=float32), array([0.16542475], dtype=float32), 0.47665495]\n",
      "[None, array([-0.719542], dtype=float32), array([0.1754193], dtype=float32), 0.46530694]\n",
      "[None, array([-0.7229007], dtype=float32), array([0.18529417], dtype=float32), 0.4542289]\n",
      "[None, array([-0.7262191], dtype=float32), array([0.19505078], dtype=float32), 0.4434147]\n",
      "[None, array([-0.7294978], dtype=float32), array([0.20469053], dtype=float32), 0.43285793]\n",
      "[None, array([-0.73273724], dtype=float32), array([0.21421485], dtype=float32), 0.42255253]\n",
      "[None, array([-0.73593783], dtype=float32), array([0.22362511], dtype=float32), 0.4124925]\n",
      "[None, array([-0.73910016], dtype=float32), array([0.23292267], dtype=float32), 0.40267205]\n",
      "[None, array([-0.74222463], dtype=float32), array([0.24210888], dtype=float32), 0.3930853]\n",
      "[None, array([-0.7453116], dtype=float32), array([0.2511851], dtype=float32), 0.3837267]\n",
      "[None, array([-0.74836165], dtype=float32), array([0.2601526], dtype=float32), 0.37459117]\n",
      "[None, array([-0.7513752], dtype=float32), array([0.26901272], dtype=float32), 0.3656729]\n",
      "[None, array([-0.7543526], dtype=float32), array([0.27776673], dtype=float32), 0.35696703]\n",
      "[None, array([-0.7572944], dtype=float32), array([0.28641593], dtype=float32), 0.34846842]\n",
      "[None, array([-0.760201], dtype=float32), array([0.29496154], dtype=float32), 0.34017223]\n",
      "[None, array([-0.76307267], dtype=float32), array([0.3034048], dtype=float32), 0.33207333]\n",
      "[None, array([-0.76591], dtype=float32), array([0.31174695], dtype=float32), 0.32416746]\n",
      "[None, array([-0.7687134], dtype=float32), array([0.3199892], dtype=float32), 0.3164498]\n",
      "[None, array([-0.7714832], dtype=float32), array([0.32813275], dtype=float32), 0.30891576]\n",
      "[None, array([-0.7742198], dtype=float32), array([0.33617878], dtype=float32), 0.30156112]\n",
      "[None, array([-0.77692366], dtype=float32), array([0.34412843], dtype=float32), 0.29438165]\n",
      "[None, array([-0.77959514], dtype=float32), array([0.3519829], dtype=float32), 0.28737307]\n",
      "[None, array([-0.7822346], dtype=float32), array([0.3597433], dtype=float32), 0.28053135]\n",
      "[None, array([-0.7848425], dtype=float32), array([0.36741075], dtype=float32), 0.2738526]\n",
      "[None, array([-0.78741914], dtype=float32), array([0.37498638], dtype=float32), 0.26733264]\n",
      "[None, array([-0.7899649], dtype=float32), array([0.3824713], dtype=float32), 0.2609681]\n",
      "[None, array([-0.79248023], dtype=float32), array([0.38986656], dtype=float32), 0.25475502]\n",
      "[None, array([-0.7949654], dtype=float32), array([0.3971733], dtype=float32), 0.24868989]\n",
      "[None, array([-0.7974208], dtype=float32), array([0.4043925], dtype=float32), 0.24276918]\n",
      "[None, array([-0.7998468], dtype=float32), array([0.41152528], dtype=float32), 0.23698932]\n",
      "[None, array([-0.80224377], dtype=float32), array([0.41857263], dtype=float32), 0.23134711]\n",
      "[None, array([-0.80461204], dtype=float32), array([0.4255356], dtype=float32), 0.22583926]\n",
      "[None, array([-0.80695194], dtype=float32), array([0.43241516], dtype=float32), 0.22046256]\n",
      "[None, array([-0.8092638], dtype=float32), array([0.43921232], dtype=float32), 0.2152138]\n",
      "[None, array([-0.811548], dtype=float32), array([0.4459281], dtype=float32), 0.21008998]\n",
      "[None, array([-0.8138048], dtype=float32), array([0.45256343], dtype=float32), 0.20508823]\n",
      "[None, array([-0.8160346], dtype=float32), array([0.45911932], dtype=float32), 0.20020556]\n",
      "[None, array([-0.8182377], dtype=float32), array([0.4655967], dtype=float32), 0.19543907]\n",
      "[None, array([-0.8204144], dtype=float32), array([0.47199652], dtype=float32), 0.1907861]\n",
      "[None, array([-0.8225651], dtype=float32), array([0.47831967], dtype=float32), 0.18624389]\n",
      "[None, array([-0.82469], dtype=float32), array([0.4845671], dtype=float32), 0.18180983]\n",
      "[None, array([-0.82678944], dtype=float32), array([0.49073973], dtype=float32), 0.17748134]\n",
      "[None, array([-0.82886374], dtype=float32), array([0.49683845], dtype=float32), 0.17325595]\n",
      "[None, array([-0.8309132], dtype=float32), array([0.5028641], dtype=float32), 0.1691311]\n",
      "[None, array([-0.8329381], dtype=float32), array([0.5088176], dtype=float32), 0.16510442]\n",
      "[None, array([-0.83493876], dtype=float32), array([0.5146998], dtype=float32), 0.16117366]\n",
      "[None, array([-0.8369155], dtype=float32), array([0.52051157], dtype=float32), 0.1573365]\n",
      "[None, array([-0.8388685], dtype=float32), array([0.52625376], dtype=float32), 0.15359063]\n",
      "[None, array([-0.84079814], dtype=float32), array([0.53192717], dtype=float32), 0.14993396]\n",
      "[None, array([-0.84270465], dtype=float32), array([0.5375326], dtype=float32), 0.14636436]\n",
      "[None, array([-0.8445884], dtype=float32), array([0.543071], dtype=float32), 0.14287975]\n",
      "[None, array([-0.84644955], dtype=float32), array([0.548543], dtype=float32), 0.13947809]\n",
      "[None, array([-0.8482884], dtype=float32), array([0.5539495], dtype=float32), 0.13615741]\n",
      "[None, array([-0.8501053], dtype=float32), array([0.5592912], dtype=float32), 0.13291575]\n",
      "[None, array([-0.85190034], dtype=float32), array([0.56456894], dtype=float32), 0.12975137]\n",
      "[None, array([-0.85367393], dtype=float32), array([0.5697835], dtype=float32), 0.12666227]\n",
      "[None, array([-0.85542625], dtype=float32), array([0.5749356], dtype=float32), 0.1236467]\n",
      "[None, array([-0.85715765], dtype=float32), array([0.58002603], dtype=float32), 0.120703]\n",
      "[None, array([-0.85886824], dtype=float32), array([0.5850555], dtype=float32), 0.11782924]\n",
      "[None, array([-0.8605584], dtype=float32), array([0.5900247], dtype=float32), 0.115023986]\n",
      "[None, array([-0.86222833], dtype=float32), array([0.5949344], dtype=float32), 0.11228554]\n",
      "[None, array([-0.86387825], dtype=float32), array([0.5997853], dtype=float32), 0.1096123]\n",
      "[None, array([-0.8655084], dtype=float32), array([0.60457814], dtype=float32), 0.10700263]\n",
      "[None, array([-0.86711895], dtype=float32), array([0.60931355], dtype=float32), 0.10445517]\n",
      "[None, array([-0.8687103], dtype=float32), array([0.6139923], dtype=float32), 0.101968296]\n",
      "[None, array([-0.87028253], dtype=float32), array([0.618615], dtype=float32), 0.09954065]\n",
      "[None, array([-0.871836], dtype=float32), array([0.6231823], dtype=float32), 0.0971708]\n",
      "[None, array([-0.8733709], dtype=float32), array([0.6276949], dtype=float32), 0.09485737]\n",
      "[None, array([-0.87488735], dtype=float32), array([0.6321535], dtype=float32), 0.09259902]\n",
      "[None, array([-0.8763856], dtype=float32), array([0.6365587], dtype=float32), 0.09039444]\n",
      "[None, array([-0.877866], dtype=float32), array([0.64091116], dtype=float32), 0.088242374]\n"
     ]
    },
    {
     "name": "stdout",
     "output_type": "stream",
     "text": [
      "[None, array([-0.8793286], dtype=float32), array([0.64521146], dtype=float32), 0.08614146]\n",
      "[None, array([-0.8807737], dtype=float32), array([0.64946026], dtype=float32), 0.08409065]\n",
      "[None, array([-0.88220155], dtype=float32), array([0.65365815], dtype=float32), 0.08208866]\n",
      "[None, array([-0.8836123], dtype=float32), array([0.6578058], dtype=float32), 0.080134295]\n",
      "[None, array([-0.88500607], dtype=float32), array([0.6619038], dtype=float32), 0.07822649]\n",
      "[None, array([-0.8863832], dtype=float32), array([0.6659527], dtype=float32), 0.07636407]\n",
      "[None, array([-0.8877438], dtype=float32), array([0.6699531], dtype=float32), 0.07454602]\n",
      "[None, array([-0.88908815], dtype=float32), array([0.6739056], dtype=float32), 0.07277124]\n",
      "[None, array([-0.8904164], dtype=float32), array([0.6778108], dtype=float32), 0.071038716]\n",
      "[None, array([-0.8917287], dtype=float32), array([0.6816692], dtype=float32), 0.06934741]\n",
      "[None, array([-0.89302534], dtype=float32), array([0.68548137], dtype=float32), 0.06769647]\n",
      "[None, array([-0.8943064], dtype=float32), array([0.6892479], dtype=float32), 0.06608472]\n",
      "[None, array([-0.8955721], dtype=float32), array([0.6929694], dtype=float32), 0.06451141]\n",
      "[None, array([-0.89682275], dtype=float32), array([0.6966463], dtype=float32), 0.06297551]\n",
      "[None, array([-0.89805835], dtype=float32), array([0.7002791], dtype=float32), 0.06147619]\n",
      "[None, array([-0.8992792], dtype=float32), array([0.70386845], dtype=float32), 0.06001258]\n",
      "[None, array([-0.90048534], dtype=float32), array([0.7074148], dtype=float32), 0.05858381]\n",
      "[None, array([-0.9016771], dtype=float32), array([0.71091866], dtype=float32), 0.05718911]\n",
      "[None, array([-0.90285456], dtype=float32), array([0.71438056], dtype=float32), 0.055827554]\n",
      "[None, array([-0.9040179], dtype=float32), array([0.71780103], dtype=float32), 0.054498427]\n",
      "[None, array([-0.9051674], dtype=float32), array([0.72118056], dtype=float32), 0.053200945]\n",
      "[None, array([-0.90630305], dtype=float32), array([0.7245196], dtype=float32), 0.051934354]\n",
      "[None, array([-0.90742517], dtype=float32), array([0.72781867], dtype=float32), 0.050697908]\n",
      "[None, array([-0.9085338], dtype=float32), array([0.7310782], dtype=float32), 0.049490876]\n",
      "[None, array([-0.90962917], dtype=float32), array([0.7342987], dtype=float32), 0.048312604]\n",
      "[None, array([-0.9107114], dtype=float32), array([0.73748064], dtype=float32), 0.04716239]\n",
      "[None, array([-0.91178066], dtype=float32), array([0.7406245], dtype=float32), 0.046039555]\n",
      "[None, array([-0.91283715], dtype=float32), array([0.74373066], dtype=float32), 0.04494343]\n",
      "[None, array([-0.913881], dtype=float32), array([0.74679965], dtype=float32), 0.04387343]\n",
      "[None, array([-0.91491234], dtype=float32), array([0.74983186], dtype=float32), 0.04282894]\n",
      "[None, array([-0.9159313], dtype=float32), array([0.75282776], dtype=float32), 0.04180926]\n",
      "[None, array([-0.91693807], dtype=float32), array([0.7557878], dtype=float32), 0.0408139]\n",
      "[None, array([-0.9179328], dtype=float32), array([0.75871235], dtype=float32), 0.039842192]\n",
      "[None, array([-0.91891557], dtype=float32), array([0.7616019], dtype=float32), 0.03889362]\n",
      "[None, array([-0.9198866], dtype=float32), array([0.76445687], dtype=float32), 0.037967667]\n",
      "[None, array([-0.920846], dtype=float32), array([0.76727766], dtype=float32), 0.037063733]\n",
      "[None, array([-0.92179394], dtype=float32), array([0.77006465], dtype=float32), 0.036181346]\n",
      "[None, array([-0.9227305], dtype=float32), array([0.77281827], dtype=float32), 0.03531994]\n",
      "[None, array([-0.92365587], dtype=float32), array([0.7755389], dtype=float32), 0.034479067]\n",
      "[None, array([-0.92457014], dtype=float32), array([0.778227], dtype=float32), 0.033658177]\n",
      "[None, array([-0.92547345], dtype=float32), array([0.78088284], dtype=float32), 0.032856867]\n",
      "[None, array([-0.926366], dtype=float32), array([0.7835069], dtype=float32), 0.0320746]\n",
      "[None, array([-0.92724776], dtype=float32), array([0.7860995], dtype=float32), 0.03131098]\n",
      "[None, array([-0.928119], dtype=float32), array([0.78866106], dtype=float32), 0.03056554]\n",
      "[None, array([-0.9289798], dtype=float32), array([0.791192], dtype=float32), 0.029837828]\n",
      "[None, array([-0.9298303], dtype=float32), array([0.7936926], dtype=float32), 0.029127486]\n",
      "[None, array([-0.9306706], dtype=float32), array([0.79616326], dtype=float32), 0.028434012]\n",
      "[None, array([-0.9315009], dtype=float32), array([0.7986043], dtype=float32), 0.02775706]\n",
      "[None, array([-0.9323212], dtype=float32), array([0.80101615], dtype=float32), 0.027096223]\n",
      "[None, array([-0.9331317], dtype=float32), array([0.8033991], dtype=float32), 0.026451124]\n",
      "[None, array([-0.9339325], dtype=float32), array([0.80575347], dtype=float32), 0.025821386]\n",
      "[None, array([-0.9347237], dtype=float32), array([0.80807966], dtype=float32), 0.025206644]\n",
      "[None, array([-0.9355054], dtype=float32), array([0.810378], dtype=float32), 0.024606552]\n",
      "[None, array([-0.93627775], dtype=float32), array([0.81264883], dtype=float32), 0.024020713]\n",
      "[None, array([-0.93704087], dtype=float32), array([0.8148925], dtype=float32), 0.023448836]\n",
      "[None, array([-0.93779486], dtype=float32), array([0.8171092], dtype=float32), 0.022890586]\n",
      "[None, array([-0.9385398], dtype=float32), array([0.81929946], dtype=float32), 0.022345616]\n",
      "[None, array([-0.9392758], dtype=float32), array([0.82146347], dtype=float32), 0.021813598]\n",
      "[None, array([-0.940003], dtype=float32), array([0.82360154], dtype=float32), 0.021294251]\n",
      "[None, array([-0.9407215], dtype=float32), array([0.825714], dtype=float32), 0.020787284]\n",
      "[None, array([-0.9414314], dtype=float32), array([0.82780117], dtype=float32), 0.02029242]\n",
      "[None, array([-0.94213283], dtype=float32), array([0.82986337], dtype=float32), 0.01980929]\n",
      "[None, array([-0.9428258], dtype=float32), array([0.8319009], dtype=float32), 0.019337665]\n",
      "[None, array([-0.9435105], dtype=float32), array([0.833914], dtype=float32), 0.018877272]\n",
      "[None, array([-0.944187], dtype=float32), array([0.8359029], dtype=float32), 0.018427864]\n",
      "[None, array([-0.9448554], dtype=float32), array([0.8378681], dtype=float32), 0.017989129]\n",
      "[None, array([-0.94551575], dtype=float32), array([0.8398097], dtype=float32), 0.017560832]\n",
      "[None, array([-0.94616824], dtype=float32), array([0.8417281], dtype=float32), 0.017142761]\n",
      "[None, array([-0.9468129], dtype=float32), array([0.8436235], dtype=float32), 0.016734619]\n",
      "[None, array([-0.94744986], dtype=float32), array([0.84549624], dtype=float32), 0.016336197]\n",
      "[None, array([-0.94807917], dtype=float32), array([0.8473465], dtype=float32), 0.015947267]\n",
      "[None, array([-0.94870096], dtype=float32), array([0.8491746], dtype=float32), 0.015567629]\n",
      "[None, array([-0.9493153], dtype=float32), array([0.8509808], dtype=float32), 0.015196995]\n",
      "[None, array([-0.94992226], dtype=float32), array([0.85276544], dtype=float32), 0.014835178]\n",
      "[None, array([-0.950522], dtype=float32), array([0.85452867], dtype=float32), 0.014481971]\n",
      "[None, array([-0.95111454], dtype=float32), array([0.8562708], dtype=float32), 0.014137197]\n",
      "[None, array([-0.9517], dtype=float32), array([0.85799205], dtype=float32), 0.013800618]\n",
      "[None, array([-0.95227844], dtype=float32), array([0.8596927], dtype=float32), 0.013472065]\n"
     ]
    }
   ],
   "source": [
    "sess.run(init)\n",
    "model=tf.train.GradientDescentOptimizer(0.01)\n",
    "final=model.minimize(loss)\n",
    "for i in range(200):\n",
    "    print(sess.run([final,w,b,loss],{x:X_train}))"
   ]
  },
  {
   "cell_type": "markdown",
   "metadata": {},
   "source": [
    "Here we can see the values of weights and bias are automatically adjusted to minimise the loss function so as to fit the Linear_model\n",
    "Different learning rate produces different outcomes"
   ]
  }
 ],
 "metadata": {
  "kernelspec": {
   "display_name": "Python 3",
   "language": "python",
   "name": "python3"
  },
  "language_info": {
   "codemirror_mode": {
    "name": "ipython",
    "version": 3
   },
   "file_extension": ".py",
   "mimetype": "text/x-python",
   "name": "python",
   "nbconvert_exporter": "python",
   "pygments_lexer": "ipython3",
   "version": "3.5.5"
  }
 },
 "nbformat": 4,
 "nbformat_minor": 2
}
